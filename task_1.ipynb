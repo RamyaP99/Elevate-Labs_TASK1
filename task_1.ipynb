{
 "cells": [
  {
   "cell_type": "code",
   "execution_count": 1,
   "id": "966a234a",
   "metadata": {},
   "outputs": [],
   "source": [
    "import pandas as pd\n",
    "from datetime import datetime\n",
    "\n",
    "df = pd.read_csv(\"KaggleV2-May-2016.csv\")"
   ]
  },
  {
   "cell_type": "code",
   "execution_count": 2,
   "id": "c4b2b225",
   "metadata": {},
   "outputs": [
    {
     "name": "stdout",
     "output_type": "stream",
     "text": [
      "Missing Values:\n",
      " PatientId         0\n",
      "AppointmentID     0\n",
      "Gender            0\n",
      "ScheduledDay      0\n",
      "AppointmentDay    0\n",
      "Age               0\n",
      "Neighbourhood     0\n",
      "Scholarship       0\n",
      "Hipertension      0\n",
      "Diabetes          0\n",
      "Alcoholism        0\n",
      "Handcap           0\n",
      "SMS_received      0\n",
      "No-show           0\n",
      "dtype: int64\n"
     ]
    }
   ],
   "source": [
    "#Check for missing values\n",
    "\n",
    "missing = df.isnull().sum()\n",
    "print(\"Missing Values:\\n\", missing)"
   ]
  },
  {
   "cell_type": "markdown",
   "id": "ce1c6f87",
   "metadata": {},
   "source": [
    "#### Handling missing values"
   ]
  },
  {
   "cell_type": "code",
   "execution_count": 3,
   "id": "80982b73",
   "metadata": {},
   "outputs": [],
   "source": [
    "# 1)Drop rows with missing values\n",
    "df_cleaned = df.dropna()\n",
    "\n",
    "# 2) Fill numeric columns with mean, and string columns with mode\n",
    "df_filled = df.copy()\n",
    "for col in df.columns:\n",
    "    if df[col].dtype == 'object':\n",
    "        df_filled[col] = df[col].fillna(df[col].mode()[0])\n",
    "    else:\n",
    "        df_filled[col] = df[col].fillna(df[col].mean())"
   ]
  },
  {
   "cell_type": "code",
   "execution_count": 4,
   "id": "bfb5dab4",
   "metadata": {},
   "outputs": [
    {
     "name": "stdout",
     "output_type": "stream",
     "text": [
      "      PatientId  AppointmentID Gender          ScheduledDay  \\\n",
      "0  2.987250e+13        5642903      F  2016-04-29T18:38:08Z   \n",
      "1  5.589978e+14        5642503      M  2016-04-29T16:08:27Z   \n",
      "2  4.262962e+12        5642549      F  2016-04-29T16:19:04Z   \n",
      "3  8.679512e+11        5642828      F  2016-04-29T17:29:31Z   \n",
      "4  8.841186e+12        5642494      F  2016-04-29T16:07:23Z   \n",
      "\n",
      "         AppointmentDay  Age      Neighbourhood  Scholarship  Hipertension  \\\n",
      "0  2016-04-29T00:00:00Z   62    JARDIM DA PENHA            0             1   \n",
      "1  2016-04-29T00:00:00Z   56    JARDIM DA PENHA            0             0   \n",
      "2  2016-04-29T00:00:00Z   62      MATA DA PRAIA            0             0   \n",
      "3  2016-04-29T00:00:00Z    8  PONTAL DE CAMBURI            0             0   \n",
      "4  2016-04-29T00:00:00Z   56    JARDIM DA PENHA            0             1   \n",
      "\n",
      "   Diabetes  Alcoholism  Handcap  SMS_received No-show  \n",
      "0         0           0        0             0      No  \n",
      "1         0           0        0             0      No  \n",
      "2         0           0        0             0      No  \n",
      "3         0           0        0             0      No  \n",
      "4         1           0        0             0      No  \n"
     ]
    }
   ],
   "source": [
    "print(df_cleaned.head())"
   ]
  },
  {
   "cell_type": "code",
   "execution_count": 5,
   "id": "ba856f83",
   "metadata": {},
   "outputs": [],
   "source": [
    "# Remove Duplicate Rows\n",
    "\n",
    "df = df_cleaned.drop_duplicates()"
   ]
  },
  {
   "cell_type": "code",
   "execution_count": 6,
   "id": "156a99bc",
   "metadata": {},
   "outputs": [],
   "source": [
    "# Convert all gender entries to uppercase (F/M)\n",
    "df['Gender'] = df['Gender'].str.upper().str.strip()\n",
    "\n",
    "df['Neighbourhood'] = df['Neighbourhood'].str.title().str.strip()"
   ]
  },
  {
   "cell_type": "code",
   "execution_count": 7,
   "id": "4aa4c70c",
   "metadata": {},
   "outputs": [
    {
     "name": "stdout",
     "output_type": "stream",
     "text": [
      "      PatientId  AppointmentID Gender ScheduledDay AppointmentDay  Age  \\\n",
      "0  2.987250e+13        5642903      F   29-04-2016     29-04-2016   62   \n",
      "1  5.589978e+14        5642503      M   29-04-2016     29-04-2016   56   \n",
      "2  4.262962e+12        5642549      F   29-04-2016     29-04-2016   62   \n",
      "3  8.679512e+11        5642828      F   29-04-2016     29-04-2016    8   \n",
      "4  8.841186e+12        5642494      F   29-04-2016     29-04-2016   56   \n",
      "\n",
      "       Neighbourhood  Scholarship  Hipertension  Diabetes  Alcoholism  \\\n",
      "0    Jardim Da Penha            0             1         0           0   \n",
      "1    Jardim Da Penha            0             0         0           0   \n",
      "2      Mata Da Praia            0             0         0           0   \n",
      "3  Pontal De Camburi            0             0         0           0   \n",
      "4    Jardim Da Penha            0             1         1           0   \n",
      "\n",
      "   Handcap  SMS_received No-show  \n",
      "0        0             0      No  \n",
      "1        0             0      No  \n",
      "2        0             0      No  \n",
      "3        0             0      No  \n",
      "4        0             0      No  \n"
     ]
    }
   ],
   "source": [
    "# Convert to datetime\n",
    "df['ScheduledDay'] = pd.to_datetime(df['ScheduledDay'], errors='coerce')\n",
    "df['AppointmentDay'] = pd.to_datetime(df['AppointmentDay'], errors='coerce')\n",
    "\n",
    "# Convert to specific string format\n",
    "df['ScheduledDay'] = df['ScheduledDay'].dt.strftime('%d-%m-%Y')\n",
    "df['AppointmentDay'] = df['AppointmentDay'].dt.strftime('%d-%m-%Y')\n",
    "\n",
    "print(df.head())"
   ]
  },
  {
   "cell_type": "code",
   "execution_count": 8,
   "id": "f775eca1",
   "metadata": {},
   "outputs": [],
   "source": [
    "# Convert date columns to datetime again\n",
    "df['ScheduledDay'] = pd.to_datetime(df['ScheduledDay'], format='%d-%m-%Y', errors='coerce')\n",
    "df['AppointmentDay'] = pd.to_datetime(df['AppointmentDay'], format='%d-%m-%Y', errors='coerce')\n"
   ]
  },
  {
   "cell_type": "code",
   "execution_count": 9,
   "id": "881d21c4",
   "metadata": {},
   "outputs": [],
   "source": [
    "#Rename Column Headers (clean, lowercase, no spaces)\n",
    "\n",
    "df.columns = df.columns.str.strip().str.lower().str.replace(\" \", \"_\")"
   ]
  },
  {
   "cell_type": "code",
   "execution_count": 10,
   "id": "260715db",
   "metadata": {},
   "outputs": [
    {
     "name": "stdout",
     "output_type": "stream",
     "text": [
      "patientid                float64\n",
      "appointmentid              int64\n",
      "gender                    object\n",
      "scheduledday      datetime64[ns]\n",
      "appointmentday    datetime64[ns]\n",
      "age                        int32\n",
      "neighbourhood             object\n",
      "scholarship                int64\n",
      "hipertension               int64\n",
      "diabetes                   int64\n",
      "alcoholism                 int64\n",
      "handcap                    int64\n",
      "sms_received               int64\n",
      "no-show                   object\n",
      "dtype: object\n"
     ]
    }
   ],
   "source": [
    "#Check & Fix Data Types\n",
    "\n",
    "# Convert age to int \n",
    "df['age'] = df['age'].astype(int)\n",
    "\n",
    "# Check data types\n",
    "print(df.dtypes)"
   ]
  },
  {
   "cell_type": "code",
   "execution_count": 11,
   "id": "3844356d",
   "metadata": {},
   "outputs": [
    {
     "name": "stdout",
     "output_type": "stream",
     "text": [
      "<class 'pandas.core.frame.DataFrame'>\n",
      "Int64Index: 110527 entries, 0 to 110526\n",
      "Data columns (total 14 columns):\n",
      " #   Column          Non-Null Count   Dtype         \n",
      "---  ------          --------------   -----         \n",
      " 0   patientid       110527 non-null  float64       \n",
      " 1   appointmentid   110527 non-null  int64         \n",
      " 2   gender          110527 non-null  object        \n",
      " 3   scheduledday    110527 non-null  datetime64[ns]\n",
      " 4   appointmentday  110527 non-null  datetime64[ns]\n",
      " 5   age             110527 non-null  int32         \n",
      " 6   neighbourhood   110527 non-null  object        \n",
      " 7   scholarship     110527 non-null  int64         \n",
      " 8   hipertension    110527 non-null  int64         \n",
      " 9   diabetes        110527 non-null  int64         \n",
      " 10  alcoholism      110527 non-null  int64         \n",
      " 11  handcap         110527 non-null  int64         \n",
      " 12  sms_received    110527 non-null  int64         \n",
      " 13  no-show         110527 non-null  object        \n",
      "dtypes: datetime64[ns](2), float64(1), int32(1), int64(7), object(3)\n",
      "memory usage: 12.2+ MB\n",
      "None\n"
     ]
    }
   ],
   "source": [
    "print(df.info())"
   ]
  },
  {
   "cell_type": "code",
   "execution_count": null,
   "id": "d2cba19d",
   "metadata": {},
   "outputs": [],
   "source": []
  }
 ],
 "metadata": {
  "kernelspec": {
   "display_name": "Python 3 (ipykernel)",
   "language": "python",
   "name": "python3"
  },
  "language_info": {
   "codemirror_mode": {
    "name": "ipython",
    "version": 3
   },
   "file_extension": ".py",
   "mimetype": "text/x-python",
   "name": "python",
   "nbconvert_exporter": "python",
   "pygments_lexer": "ipython3",
   "version": "3.9.7"
  }
 },
 "nbformat": 4,
 "nbformat_minor": 5
}
